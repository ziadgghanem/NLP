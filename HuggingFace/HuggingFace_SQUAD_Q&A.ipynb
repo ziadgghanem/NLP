{
 "cells": [
  {
   "cell_type": "code",
   "execution_count": 1,
   "id": "0e5c818d",
   "metadata": {},
   "outputs": [],
   "source": [
    "from transformers import BertForQuestionAnswering, AutoTokenizer\n",
    "modelname = 'deepset/bert-base-cased-squad2'"
   ]
  },
  {
   "cell_type": "code",
   "execution_count": 2,
   "id": "e2bdf25b",
   "metadata": {},
   "outputs": [],
   "source": [
    "model = BertForQuestionAnswering.from_pretrained(modelname)\n",
    "tokenizer = AutoTokenizer.from_pretrained(modelname)"
   ]
  },
  {
   "cell_type": "code",
   "execution_count": 3,
   "id": "75e527ba",
   "metadata": {},
   "outputs": [
    {
     "name": "stderr",
     "output_type": "stream",
     "text": [
      "C:\\Users\\fghanem.FADIGHANEM\\anaconda3\\envs\\py36\\lib\\site-packages\\torchaudio\\extension\\extension.py:13: UserWarning: torchaudio C++ extension is not available.\n",
      "  warnings.warn('torchaudio C++ extension is not available.')\n"
     ]
    }
   ],
   "source": [
    "from transformers import pipeline\n",
    "nlp = pipeline('question-answering', model=model, tokenizer=tokenizer)"
   ]
  },
  {
   "cell_type": "code",
   "execution_count": 6,
   "id": "2d088c70",
   "metadata": {},
   "outputs": [],
   "source": [
    "context1 = \"\"\"\\\n",
    "The Intergovernmental Panel on Climate Change (IPCC) is a scientific intergovernmental \n",
    "body under the auspices of the United Nations, set up at the request of member governments. \n",
    "It was first established in 1988 by two United Nations organizations, the World Meteorological\n",
    "Organization (WMO) and the United Nations Environment Programme (UNEP), and later endorsed by\n",
    "the United Nations General Assembly through Resolution 43/53. Membership of the IPCC is open to\n",
    "all members of the WMO and UNEP. The IPCC produces reports that support the United Nations Framework \n",
    "Convention on Climate Change (UNFCCC), which is the main international treaty on climate change. \n",
    "The ultimate objective of the UNFCCC is to \\\"stabilize greenhouse gas concentrations in the atmosphere \n",
    "at a level that would prevent dangerous anthropogenic [i.e., human-induced] interference with\n",
    "the climate system\\\". IPCC reports cover \\\"the scientific, technical and socio-economic information \n",
    "relevant to understanding the scientific basis of risk of human-induced climate change,\n",
    "its potential impacts and options for adaptation and mitigation.\\\n",
    "\"\"\"\n",
    "\n",
    "question1 = \"What organization is the IPCC a part of?\"\n",
    "question2 = \"When was the IPCC established?\"\n",
    "question3 = \"What is the purpose of the IPCC?\""
   ]
  },
  {
   "cell_type": "code",
   "execution_count": 7,
   "id": "a8cd202a",
   "metadata": {},
   "outputs": [],
   "source": [
    "output1 = nlp({\n",
    "    'question': question1,\n",
    "    'context': context1\n",
    "})\n",
    "\n",
    "output2 = nlp({\n",
    "    'question': question2,\n",
    "    'context': context1\n",
    "})\n",
    "\n",
    "output3 = nlp({\n",
    "    'question': question3,\n",
    "    'context': context1\n",
    "})"
   ]
  },
  {
   "cell_type": "code",
   "execution_count": 8,
   "id": "16c9edac",
   "metadata": {},
   "outputs": [
    {
     "name": "stdout",
     "output_type": "stream",
     "text": [
      "United Nations\n",
      "1988\n",
      "to \"stabilize greenhouse gas concentrations in the atmosphere\n"
     ]
    }
   ],
   "source": [
    "print(output1[\"answer\"])\n",
    "print(output2[\"answer\"])\n",
    "print(output3[\"answer\"])"
   ]
  },
  {
   "cell_type": "code",
   "execution_count": null,
   "id": "01acfb33",
   "metadata": {},
   "outputs": [],
   "source": [
    "custom_context = \"I am travelling from Houston, Texas to \"\n",
    "custom_question = \"\"\n",
    "output3 = nlp({\n",
    "    'question': 'Where am I going?',\n",
    "    'context': context_hc\n",
    "})"
   ]
  },
  {
   "cell_type": "code",
   "execution_count": null,
   "id": "9fdcb4dd",
   "metadata": {},
   "outputs": [],
   "source": [
    "output3[\"answer\"]"
   ]
  },
  {
   "cell_type": "code",
   "execution_count": null,
   "id": "09bc5d86",
   "metadata": {},
   "outputs": [],
   "source": []
  }
 ],
 "metadata": {
  "kernelspec": {
   "display_name": "Python 3",
   "language": "python",
   "name": "python3"
  },
  "language_info": {
   "codemirror_mode": {
    "name": "ipython",
    "version": 3
   },
   "file_extension": ".py",
   "mimetype": "text/x-python",
   "name": "python",
   "nbconvert_exporter": "python",
   "pygments_lexer": "ipython3",
   "version": "3.6.13"
  }
 },
 "nbformat": 4,
 "nbformat_minor": 5
}
