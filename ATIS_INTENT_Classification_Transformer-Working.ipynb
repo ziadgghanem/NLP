{
 "cells": [
  {
   "cell_type": "code",
   "execution_count": null,
   "id": "91a2404f",
   "metadata": {},
   "outputs": [],
   "source": [
    "from __future__ import absolute_import, division, print_function, unicode_literals\n",
    "\n",
    "import requests\n",
    "import sys\n",
    "\n",
    "import tensorflow as tf\n",
    "\n",
    "tf.random.set_seed(1234)\n",
    "AUTO = tf.data.experimental.AUTOTUNE\n",
    "\n",
    "#import tensorflow_datasets as tfds\n",
    "\n",
    "import os\n",
    "import re\n",
    "import numpy as np\n",
    "from time import time\n",
    "import matplotlib.pyplot as plt\n",
    "\n",
    "print(\"Tensorflow version {}\".format(tf.__version__))"
   ]
  },
  {
   "cell_type": "code",
   "execution_count": null,
   "id": "bfec761e",
   "metadata": {},
   "outputs": [],
   "source": [
    "\n",
    "\n",
    "# Maximum number of samples to preprocess\n",
    "MAX_SAMPLES = 50000\n",
    "\n",
    "# For tf.data.Dataset\n",
    "BATCH_SIZE = 64 \n",
    "BUFFER_SIZE = 20000\n",
    "\n",
    "# For Transformer\n",
    "NUM_LAYERS = 2\n",
    "D_MODEL = 256\n",
    "NUM_HEADS = 8\n",
    "UNITS = 512\n",
    "DROPOUT = 0.1\n",
    "\n",
    "EPOCHS = 10"
   ]
  },
  {
   "cell_type": "code",
   "execution_count": null,
   "id": "7b178a9b",
   "metadata": {},
   "outputs": [],
   "source": [
    "import pandas as pd\n",
    "\n",
    "df_train, df_test = pd.read_csv('atis_intents_train.csv'), pd.read_csv('atis_intents_test.csv')\n",
    "df_train.columns, df_test.columns = ['intent', 'snippet'], ['intent', 'snippet']\n",
    "\n",
    "df_train.head()"
   ]
  },
  {
   "cell_type": "code",
   "execution_count": null,
   "id": "501d26d9",
   "metadata": {},
   "outputs": [],
   "source": [
    "df_train.intent.value_counts(), df_train.intent.value_counts(normalize=True)"
   ]
  },
  {
   "cell_type": "code",
   "execution_count": null,
   "id": "ebf26ecf",
   "metadata": {},
   "outputs": [],
   "source": [
    "train_data = df_train.snippet.values\n",
    "train_labels = df_train.intent.values\n",
    "test_data = df_test.snippet.values\n",
    "test_labels = df_test.intent.values          \n",
    "\n",
    "print('Training Dataset Size: {}'.format(len(train_data)))\n",
    "#print('Train Targets: {}'.format(len(train_labels)))\n",
    "print('Testing Dataset Size: {}'.format(len(test_data)))\n",
    "#print('Test Targets: {}'.format(len(test_labels)))"
   ]
  },
  {
   "cell_type": "code",
   "execution_count": null,
   "id": "6f6b27ad",
   "metadata": {},
   "outputs": [],
   "source": [
    "# Maximum sentence length\n",
    "MAX_LENGTH = 10\n",
    "\n",
    "tokenizer = tf.keras.preprocessing.text.Tokenizer(filters='')\n",
    "tokenizer.fit_on_texts(list(df_train.snippet) + list(df_test.snippet))\n",
    "VOCAB_SIZE = tokenizer.document_count\n",
    "tokenized_requests_train = tokenizer.texts_to_sequences(df_train.snippet)\n",
    "tokenized_requests_train = tf.keras.preprocessing.sequence.pad_sequences(tokenized_requests_train, \n",
    "                                                                    maxlen=MAX_LENGTH,padding='post')\n",
    "tokenized_requests_test = tokenizer.texts_to_sequences(df_test.snippet)\n",
    "tokenized_requests_test = tf.keras.preprocessing.sequence.pad_sequences(tokenized_requests_test, \n",
    "                                                                    maxlen=MAX_LENGTH,padding='post')"
   ]
  },
  {
   "cell_type": "code",
   "execution_count": null,
   "id": "df92cc43",
   "metadata": {},
   "outputs": [],
   "source": [
    "print('Sample Request: {}'.format(train_data[2]))\n",
    "print('Sample Token: {}'.format(tokenized_requests_train[2]))\n",
    "print('Sample Target: {}'.format(train_labels[2]))"
   ]
  },
  {
   "cell_type": "code",
   "execution_count": null,
   "id": "4af0a522",
   "metadata": {},
   "outputs": [],
   "source": [
    "target_train_df = pd.get_dummies(train_labels)\n",
    "target_test_df = pd.get_dummies(test_labels)\n",
    "target_train_df.head()"
   ]
  },
  {
   "cell_type": "code",
   "execution_count": null,
   "id": "a160c3cf",
   "metadata": {},
   "outputs": [],
   "source": [
    "tokenized_targets_train = pd.get_dummies(train_labels)\n",
    "tokenized_targets_test = pd.get_dummies(test_labels)\n",
    "tokenized_targets_train.head()"
   ]
  },
  {
   "cell_type": "code",
   "execution_count": null,
   "id": "0b0b00cb",
   "metadata": {},
   "outputs": [],
   "source": [
    "tokenized_targets_train = target_train_df.values\n",
    "tokenized_targets_test = target_test_df.values\n",
    "print('Dataset Type: {}'.format(type(tokenized_targets_train)))"
   ]
  },
  {
   "cell_type": "code",
   "execution_count": null,
   "id": "9f01050b",
   "metadata": {},
   "outputs": [],
   "source": [
    "# Train/Val Split\n",
    "prop = 0.8\n",
    "N = len(tokenized_requests_train)\n",
    "x_train = tokenized_requests_train[:int(N*prop)]\n",
    "y_train = tokenized_targets_train[:int(N*prop)]\n",
    "\n",
    "x_val = tokenized_requests_train[int(N*prop):]\n",
    "y_val = tokenized_targets_train[int(N*prop):]\n",
    "\n",
    "x_test = tokenized_requests_test\n",
    "y_test = tokenized_targets_test"
   ]
  },
  {
   "cell_type": "code",
   "execution_count": null,
   "id": "3e91eba4",
   "metadata": {},
   "outputs": [],
   "source": [
    "type(y_test)"
   ]
  },
  {
   "cell_type": "code",
   "execution_count": null,
   "id": "a8f5fb59",
   "metadata": {},
   "outputs": [],
   "source": [
    "##Implement a Transformer block as a layer\n",
    "from tensorflow import keras\n",
    "from tensorflow.keras import layers\n",
    "#import tensorflow_addons as tfa\n",
    "\n",
    "class TransformerBlock(layers.Layer):\n",
    "    def __init__(self, embed_dim, num_heads, ff_dim, rate=0.1):\n",
    "        super(TransformerBlock, self).__init__()\n",
    "        self.att = layers.MultiHeadAttention(num_heads=num_heads, key_dim=embed_dim)\n",
    "        self.ffn = keras.Sequential(\n",
    "            [layers.Dense(ff_dim, activation=\"relu\"), layers.Dense(embed_dim),]\n",
    "        )\n",
    "        self.layernorm1 = layers.LayerNormalization(epsilon=1e-6)\n",
    "        self.layernorm2 = layers.LayerNormalization(epsilon=1e-6)\n",
    "        self.dropout1 = layers.Dropout(rate)\n",
    "        self.dropout2 = layers.Dropout(rate)\n",
    "\n",
    "    def call(self, inputs, training):\n",
    "        attn_output = self.att(inputs, inputs)\n",
    "        attn_output = self.dropout1(attn_output, training=training)\n",
    "        out1 = self.layernorm1(inputs + attn_output)\n",
    "        ffn_output = self.ffn(out1)\n",
    "        ffn_output = self.dropout2(ffn_output, training=training)\n",
    "        return self.layernorm2(out1 + ffn_output)"
   ]
  },
  {
   "cell_type": "code",
   "execution_count": null,
   "id": "72d04831",
   "metadata": {},
   "outputs": [],
   "source": [
    "## Implement embedding layer\n",
    "\n",
    "class TokenAndPositionEmbedding(layers.Layer):\n",
    "    def __init__(self, MAX_LENGTH, VOCAB_SIZE, embed_dim):\n",
    "        super(TokenAndPositionEmbedding, self).__init__()\n",
    "        self.token_emb = layers.Embedding(input_dim=VOCAB_SIZE, output_dim=embed_dim)\n",
    "        self.pos_emb = layers.Embedding(input_dim=MAX_LENGTH, output_dim=embed_dim)\n",
    "\n",
    "    def call(self, x):\n",
    "        maxlen = tf.shape(x)[-1]\n",
    "        positions = tf.range(start=0, limit=MAX_LENGTH, delta=1)\n",
    "        positions = self.pos_emb(positions)\n",
    "        x = self.token_emb(x)\n",
    "        return x + positions"
   ]
  },
  {
   "cell_type": "code",
   "execution_count": null,
   "id": "d2b6079e",
   "metadata": {},
   "outputs": [],
   "source": [
    "head_size = 10\n",
    "embed_dim = 32  # Embedding size for each token\n",
    "num_heads = 2  # Number of attention heads\n",
    "ff_dim = 32  # Hidden layer size in feed forward network inside transformer"
   ]
  },
  {
   "cell_type": "code",
   "execution_count": null,
   "id": "b9fcbf0d",
   "metadata": {},
   "outputs": [],
   "source": [
    "inputs = layers.Input(shape=(MAX_LENGTH,))\n",
    "embedding_layer = TokenAndPositionEmbedding(MAX_LENGTH, VOCAB_SIZE, embed_dim)\n",
    "x = embedding_layer(inputs)\n",
    "transformer_block = TransformerBlock(embed_dim, num_heads, ff_dim)\n",
    "x = transformer_block(x)\n",
    "x = layers.GlobalAveragePooling1D()(x)\n",
    "x = layers.Dropout(0.1)(x)\n",
    "x = layers.Dense(20, activation=\"relu\")(x)\n",
    "x = layers.Dropout(0.1)(x)\n",
    "outputs = layers.Dense(8, activation=\"softmax\")(x)\n",
    "\n",
    "model = keras.Model(inputs=inputs, outputs=outputs)"
   ]
  },
  {
   "cell_type": "code",
   "execution_count": null,
   "id": "8e12bfeb",
   "metadata": {},
   "outputs": [],
   "source": [
    "model.summary()"
   ]
  },
  {
   "cell_type": "code",
   "execution_count": null,
   "id": "018b7b3a",
   "metadata": {},
   "outputs": [],
   "source": [
    "model.compile(\"adam\", \"categorical_crossentropy\", metrics=[\"accuracy\"])\n"
   ]
  },
  {
   "cell_type": "code",
   "execution_count": null,
   "id": "c0bd0c03",
   "metadata": {},
   "outputs": [],
   "source": [
    "print(x_val.shape)\n",
    "print(y_train.shape)"
   ]
  },
  {
   "cell_type": "code",
   "execution_count": null,
   "id": "6d82d6a9",
   "metadata": {},
   "outputs": [],
   "source": [
    "history = model.fit(\n",
    "    x_train, y_train, batch_size=32, epochs=20, validation_data=(x_val, y_val)\n",
    ")"
   ]
  },
  {
   "cell_type": "code",
   "execution_count": null,
   "id": "d2d0ee17",
   "metadata": {},
   "outputs": [],
   "source": [
    "# VALIDATION LOSS curves\n",
    "\n",
    "plt.clf()\n",
    "history_dict = history.history\n",
    "loss_values = history_dict['loss']\n",
    "val_loss_values = history_dict['val_loss']\n",
    "epochs = range(1, (len(history_dict['loss']) + 1))\n",
    "plt.plot(epochs, loss_values, 'bo', label='Training loss')\n",
    "plt.plot(epochs, val_loss_values, 'r', label='Validation loss')\n",
    "plt.title('Training and validation loss')\n",
    "plt.xlabel('Epochs')\n",
    "plt.ylabel('Loss')\n",
    "plt.legend()\n",
    "plt.show()"
   ]
  },
  {
   "cell_type": "code",
   "execution_count": null,
   "id": "5009f463",
   "metadata": {},
   "outputs": [],
   "source": [
    "\n",
    "# VALIDATION ACCURACY curves\n",
    "\n",
    "plt.clf()\n",
    "acc_values = history_dict['accuracy']\n",
    "val_acc_values = history_dict['val_accuracy']\n",
    "epochs = range(1, (len(history_dict['accuracy']) + 1))\n",
    "plt.plot(epochs, acc_values, 'bo', label='Training acc')\n",
    "plt.plot(epochs, val_acc_values, 'r', label='Validation acc')\n",
    "plt.title('Training and validation accuracy')\n",
    "plt.xlabel('Epochs')\n",
    "plt.ylabel('Accuracy')\n",
    "plt.legend()\n",
    "plt.show()"
   ]
  },
  {
   "cell_type": "code",
   "execution_count": null,
   "id": "8d8cb65e",
   "metadata": {},
   "outputs": [],
   "source": [
    "print('Sample Request: {}'.format(test_data[2]))\n",
    "print('Sample Request Token: {}'.format(x_test[2]))\n",
    "print('Sample Target: {}'.format(test_labels[2]))\n",
    "print('Sample Target Token: {}'.format(y_test[2]))"
   ]
  },
  {
   "cell_type": "code",
   "execution_count": null,
   "id": "3cd48b73",
   "metadata": {},
   "outputs": [],
   "source": [
    "y_pred = model.predict(x_test)"
   ]
  },
  {
   "cell_type": "code",
   "execution_count": null,
   "id": "492ae045",
   "metadata": {},
   "outputs": [],
   "source": [
    "y_pred.shape"
   ]
  },
  {
   "cell_type": "code",
   "execution_count": null,
   "id": "f97c812f",
   "metadata": {},
   "outputs": [],
   "source": [
    "x_test.shape"
   ]
  },
  {
   "cell_type": "code",
   "execution_count": null,
   "id": "4a411dca",
   "metadata": {},
   "outputs": [],
   "source": [
    "y_pred[2,:]"
   ]
  },
  {
   "cell_type": "code",
   "execution_count": null,
   "id": "4bdca6a7",
   "metadata": {},
   "outputs": [],
   "source": []
  }
 ],
 "metadata": {
  "kernelspec": {
   "display_name": "Python 3",
   "language": "python",
   "name": "python3"
  },
  "language_info": {
   "codemirror_mode": {
    "name": "ipython",
    "version": 3
   },
   "file_extension": ".py",
   "mimetype": "text/x-python",
   "name": "python",
   "nbconvert_exporter": "python",
   "pygments_lexer": "ipython3",
   "version": "3.6.13"
  }
 },
 "nbformat": 4,
 "nbformat_minor": 5
}
