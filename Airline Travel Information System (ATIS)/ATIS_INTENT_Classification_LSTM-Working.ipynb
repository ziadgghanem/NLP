{
 "cells": [
  {
   "cell_type": "code",
   "execution_count": 1,
   "id": "91a2404f",
   "metadata": {},
   "outputs": [
    {
     "name": "stdout",
     "output_type": "stream",
     "text": [
      "Tensorflow version 2.5.0\n"
     ]
    }
   ],
   "source": [
    "from __future__ import absolute_import, division, print_function, unicode_literals\n",
    "\n",
    "import requests\n",
    "import sys\n",
    "\n",
    "import tensorflow as tf\n",
    "\n",
    "tf.random.set_seed(1234)\n",
    "AUTO = tf.data.experimental.AUTOTUNE\n",
    "\n",
    "#import tensorflow_datasets as tfds\n",
    "\n",
    "import os\n",
    "import re\n",
    "import numpy as np\n",
    "from time import time\n",
    "import matplotlib.pyplot as plt\n",
    "\n",
    "print(\"Tensorflow version {}\".format(tf.__version__))"
   ]
  },
  {
   "cell_type": "code",
   "execution_count": 2,
   "id": "143882d8",
   "metadata": {},
   "outputs": [
    {
     "name": "stderr",
     "output_type": "stream",
     "text": [
      "Python 3.6.13 :: Anaconda, Inc.\n"
     ]
    }
   ],
   "source": [
    "#model requires python 3.6 \n",
    "!python --version"
   ]
  },
  {
   "cell_type": "code",
   "execution_count": 3,
   "id": "207cf19a",
   "metadata": {},
   "outputs": [],
   "source": [
    "def plot_graphs(history, metric):\n",
    "  plt.plot(history.history[metric])\n",
    "  plt.plot(history.history['val_'+metric], '')\n",
    "  plt.xlabel(\"Epochs\")\n",
    "  plt.ylabel(metric)\n",
    "  plt.legend([metric, 'val_'+metric])"
   ]
  },
  {
   "cell_type": "code",
   "execution_count": 4,
   "id": "7b178a9b",
   "metadata": {},
   "outputs": [
    {
     "data": {
      "text/html": [
       "<div>\n",
       "<style scoped>\n",
       "    .dataframe tbody tr th:only-of-type {\n",
       "        vertical-align: middle;\n",
       "    }\n",
       "\n",
       "    .dataframe tbody tr th {\n",
       "        vertical-align: top;\n",
       "    }\n",
       "\n",
       "    .dataframe thead th {\n",
       "        text-align: right;\n",
       "    }\n",
       "</style>\n",
       "<table border=\"1\" class=\"dataframe\">\n",
       "  <thead>\n",
       "    <tr style=\"text-align: right;\">\n",
       "      <th></th>\n",
       "      <th>intent</th>\n",
       "      <th>snippet</th>\n",
       "    </tr>\n",
       "  </thead>\n",
       "  <tbody>\n",
       "    <tr>\n",
       "      <th>0</th>\n",
       "      <td>atis_flight</td>\n",
       "      <td>what flights are available from pittsburgh to...</td>\n",
       "    </tr>\n",
       "    <tr>\n",
       "      <th>1</th>\n",
       "      <td>atis_flight_time</td>\n",
       "      <td>what is the arrival time in san francisco for...</td>\n",
       "    </tr>\n",
       "    <tr>\n",
       "      <th>2</th>\n",
       "      <td>atis_airfare</td>\n",
       "      <td>cheapest airfare from tacoma to orlando</td>\n",
       "    </tr>\n",
       "    <tr>\n",
       "      <th>3</th>\n",
       "      <td>atis_airfare</td>\n",
       "      <td>round trip fares from pittsburgh to philadelp...</td>\n",
       "    </tr>\n",
       "    <tr>\n",
       "      <th>4</th>\n",
       "      <td>atis_flight</td>\n",
       "      <td>i need a flight tomorrow from columbus to min...</td>\n",
       "    </tr>\n",
       "  </tbody>\n",
       "</table>\n",
       "</div>"
      ],
      "text/plain": [
       "             intent                                            snippet\n",
       "0       atis_flight   what flights are available from pittsburgh to...\n",
       "1  atis_flight_time   what is the arrival time in san francisco for...\n",
       "2      atis_airfare            cheapest airfare from tacoma to orlando\n",
       "3      atis_airfare   round trip fares from pittsburgh to philadelp...\n",
       "4       atis_flight   i need a flight tomorrow from columbus to min..."
      ]
     },
     "execution_count": 4,
     "metadata": {},
     "output_type": "execute_result"
    }
   ],
   "source": [
    "import pandas as pd\n",
    "\n",
    "df_train, df_test = pd.read_csv('atis_intents_train.csv'), pd.read_csv('atis_intents_test.csv')\n",
    "df_train.columns, df_test.columns = ['intent', 'snippet'], ['intent', 'snippet']\n",
    "\n",
    "df_train.head()"
   ]
  },
  {
   "cell_type": "code",
   "execution_count": 5,
   "id": "501d26d9",
   "metadata": {},
   "outputs": [
    {
     "data": {
      "text/plain": [
       "(atis_flight            3665\n",
       " atis_airfare            423\n",
       " atis_ground_service     255\n",
       " atis_airline            157\n",
       " atis_abbreviation       147\n",
       " atis_aircraft            81\n",
       " atis_flight_time         54\n",
       " atis_quantity            51\n",
       " Name: intent, dtype: int64,\n",
       " atis_flight            0.758328\n",
       " atis_airfare           0.087523\n",
       " atis_ground_service    0.052762\n",
       " atis_airline           0.032485\n",
       " atis_abbreviation      0.030416\n",
       " atis_aircraft          0.016760\n",
       " atis_flight_time       0.011173\n",
       " atis_quantity          0.010552\n",
       " Name: intent, dtype: float64)"
      ]
     },
     "execution_count": 5,
     "metadata": {},
     "output_type": "execute_result"
    }
   ],
   "source": [
    "df_train.intent.value_counts(), df_train.intent.value_counts(normalize=True)"
   ]
  },
  {
   "cell_type": "code",
   "execution_count": 6,
   "id": "ebf26ecf",
   "metadata": {},
   "outputs": [
    {
     "name": "stdout",
     "output_type": "stream",
     "text": [
      "Training Dataset Size: 4833\n",
      "Testing Dataset Size: 799\n",
      "Dataset Type: <class 'numpy.ndarray'>\n"
     ]
    }
   ],
   "source": [
    "train_data = df_train.snippet.values\n",
    "train_labels = df_train.intent.values\n",
    "test_data = df_test.snippet.values\n",
    "test_labels = df_test.intent.values          \n",
    "\n",
    "print('Training Dataset Size: {}'.format(len(train_data)))\n",
    "#print('Train Targets: {}'.format(len(train_labels)))\n",
    "print('Testing Dataset Size: {}'.format(len(test_data)))\n",
    "#print('Test Targets: {}'.format(len(test_labels)))\n",
    "print('Dataset Type: {}'.format(type(train_data)))"
   ]
  },
  {
   "cell_type": "code",
   "execution_count": 7,
   "id": "6f6b27ad",
   "metadata": {},
   "outputs": [],
   "source": [
    "# Maximum sentence length\n",
    "MAX_LENGTH = 10\n",
    "\n",
    "tokenizer = tf.keras.preprocessing.text.Tokenizer(filters='')\n",
    "tokenizer.fit_on_texts(list(df_train.snippet) + list(df_test.snippet))\n",
    "VOCAB_SIZE = tokenizer.document_count\n",
    "tokenized_requests_train = tokenizer.texts_to_sequences(df_train.snippet)\n",
    "tokenized_requests_train = tf.keras.preprocessing.sequence.pad_sequences(tokenized_requests_train, \n",
    "                                                                    maxlen=MAX_LENGTH,padding='post')\n",
    "tokenized_requests_test = tokenizer.texts_to_sequences(df_test.snippet)\n",
    "tokenized_requests_test = tf.keras.preprocessing.sequence.pad_sequences(tokenized_requests_test, \n",
    "                                                                    maxlen=MAX_LENGTH,padding='post')"
   ]
  },
  {
   "cell_type": "code",
   "execution_count": 8,
   "id": "df92cc43",
   "metadata": {},
   "outputs": [
    {
     "name": "stdout",
     "output_type": "stream",
     "text": [
      "Sample Request:  cheapest airfare from tacoma to orlando\n",
      "Sample Token: [ 53 260   2 164   1  95   0   0   0   0]\n",
      "Sample Target: atis_airfare\n"
     ]
    }
   ],
   "source": [
    "print('Sample Request: {}'.format(train_data[2]))\n",
    "print('Sample Token: {}'.format(tokenized_requests_train[2]))\n",
    "print('Sample Target: {}'.format(train_labels[2]))"
   ]
  },
  {
   "cell_type": "code",
   "execution_count": 9,
   "id": "36ecdeb6",
   "metadata": {},
   "outputs": [
    {
     "data": {
      "text/html": [
       "<div>\n",
       "<style scoped>\n",
       "    .dataframe tbody tr th:only-of-type {\n",
       "        vertical-align: middle;\n",
       "    }\n",
       "\n",
       "    .dataframe tbody tr th {\n",
       "        vertical-align: top;\n",
       "    }\n",
       "\n",
       "    .dataframe thead th {\n",
       "        text-align: right;\n",
       "    }\n",
       "</style>\n",
       "<table border=\"1\" class=\"dataframe\">\n",
       "  <thead>\n",
       "    <tr style=\"text-align: right;\">\n",
       "      <th></th>\n",
       "      <th>atis_abbreviation</th>\n",
       "      <th>atis_aircraft</th>\n",
       "      <th>atis_airfare</th>\n",
       "      <th>atis_airline</th>\n",
       "      <th>atis_flight</th>\n",
       "      <th>atis_flight_time</th>\n",
       "      <th>atis_ground_service</th>\n",
       "      <th>atis_quantity</th>\n",
       "    </tr>\n",
       "  </thead>\n",
       "  <tbody>\n",
       "    <tr>\n",
       "      <th>0</th>\n",
       "      <td>0</td>\n",
       "      <td>0</td>\n",
       "      <td>0</td>\n",
       "      <td>0</td>\n",
       "      <td>1</td>\n",
       "      <td>0</td>\n",
       "      <td>0</td>\n",
       "      <td>0</td>\n",
       "    </tr>\n",
       "    <tr>\n",
       "      <th>1</th>\n",
       "      <td>0</td>\n",
       "      <td>0</td>\n",
       "      <td>0</td>\n",
       "      <td>0</td>\n",
       "      <td>0</td>\n",
       "      <td>1</td>\n",
       "      <td>0</td>\n",
       "      <td>0</td>\n",
       "    </tr>\n",
       "    <tr>\n",
       "      <th>2</th>\n",
       "      <td>0</td>\n",
       "      <td>0</td>\n",
       "      <td>1</td>\n",
       "      <td>0</td>\n",
       "      <td>0</td>\n",
       "      <td>0</td>\n",
       "      <td>0</td>\n",
       "      <td>0</td>\n",
       "    </tr>\n",
       "    <tr>\n",
       "      <th>3</th>\n",
       "      <td>0</td>\n",
       "      <td>0</td>\n",
       "      <td>1</td>\n",
       "      <td>0</td>\n",
       "      <td>0</td>\n",
       "      <td>0</td>\n",
       "      <td>0</td>\n",
       "      <td>0</td>\n",
       "    </tr>\n",
       "    <tr>\n",
       "      <th>4</th>\n",
       "      <td>0</td>\n",
       "      <td>0</td>\n",
       "      <td>0</td>\n",
       "      <td>0</td>\n",
       "      <td>1</td>\n",
       "      <td>0</td>\n",
       "      <td>0</td>\n",
       "      <td>0</td>\n",
       "    </tr>\n",
       "  </tbody>\n",
       "</table>\n",
       "</div>"
      ],
      "text/plain": [
       "   atis_abbreviation  atis_aircraft  atis_airfare  atis_airline  atis_flight  \\\n",
       "0                  0              0             0             0            1   \n",
       "1                  0              0             0             0            0   \n",
       "2                  0              0             1             0            0   \n",
       "3                  0              0             1             0            0   \n",
       "4                  0              0             0             0            1   \n",
       "\n",
       "   atis_flight_time  atis_ground_service  atis_quantity  \n",
       "0                 0                    0              0  \n",
       "1                 1                    0              0  \n",
       "2                 0                    0              0  \n",
       "3                 0                    0              0  \n",
       "4                 0                    0              0  "
      ]
     },
     "execution_count": 9,
     "metadata": {},
     "output_type": "execute_result"
    }
   ],
   "source": [
    "target_train_df = pd.get_dummies(train_labels)\n",
    "target_test_df = pd.get_dummies(test_labels)\n",
    "target_train_df.head()"
   ]
  },
  {
   "cell_type": "code",
   "execution_count": 10,
   "id": "d507aa4b",
   "metadata": {},
   "outputs": [],
   "source": [
    "ATIS_Labels = list(target_train_df.columns)\n",
    "\n",
    "with open(\"ATIS_Labels_List.txt\", \"w\") as output:\n",
    "    output.write(str(ATIS_Labels))"
   ]
  },
  {
   "cell_type": "code",
   "execution_count": 11,
   "id": "066a9f10",
   "metadata": {},
   "outputs": [
    {
     "name": "stdout",
     "output_type": "stream",
     "text": [
      "atis_abbreviation\n",
      "atis_aircraft\n",
      "atis_airfare\n",
      "atis_airline\n",
      "atis_flight\n",
      "atis_flight_time\n",
      "atis_ground_service\n",
      "atis_quantity\n"
     ]
    }
   ],
   "source": [
    "print(*ATIS_Labels, sep = '\\n')"
   ]
  },
  {
   "cell_type": "code",
   "execution_count": 12,
   "id": "a160c3cf",
   "metadata": {},
   "outputs": [
    {
     "name": "stdout",
     "output_type": "stream",
     "text": [
      "Dataset Type: <class 'numpy.ndarray'>\n"
     ]
    }
   ],
   "source": [
    "tokenized_targets_train = target_train_df.values\n",
    "tokenized_targets_test = target_test_df.values\n",
    "print('Dataset Type: {}'.format(type(tokenized_targets_train)))"
   ]
  },
  {
   "cell_type": "code",
   "execution_count": 13,
   "id": "9f01050b",
   "metadata": {},
   "outputs": [],
   "source": [
    "# Train/Val Split\n",
    "prop = 0.8\n",
    "N = len(tokenized_requests_train)\n",
    "x_train = tokenized_requests_train[:int(N*prop)]\n",
    "y_train = tokenized_targets_train[:int(N*prop)]\n",
    "\n",
    "x_val = tokenized_requests_train[int(N*prop):]\n",
    "y_val = tokenized_targets_train[int(N*prop):]\n",
    "\n",
    "x_test = tokenized_requests_test\n",
    "y_test = tokenized_targets_test"
   ]
  },
  {
   "cell_type": "code",
   "execution_count": 15,
   "id": "6a671987",
   "metadata": {},
   "outputs": [
    {
     "name": "stdout",
     "output_type": "stream",
     "text": [
      "Model: \"sequential_1\"\n",
      "_________________________________________________________________\n",
      "Layer (type)                 Output Shape              Param #   \n",
      "=================================================================\n",
      "embedding_1 (Embedding)      (None, None, 25)          140800    \n",
      "_________________________________________________________________\n",
      "lstm_2 (LSTM)                (None, None, 10)          1440      \n",
      "_________________________________________________________________\n",
      "lstm_3 (LSTM)                (None, 10)                840       \n",
      "_________________________________________________________________\n",
      "dense (Dense)                (None, 8)                 88        \n",
      "=================================================================\n",
      "Total params: 143,168\n",
      "Trainable params: 143,168\n",
      "Non-trainable params: 0\n",
      "_________________________________________________________________\n"
     ]
    }
   ],
   "source": [
    "model = tf.keras.Sequential()\n",
    "model.add(tf.keras.layers.Embedding(VOCAB_SIZE,25))\n",
    "model.add((tf.keras.layers.LSTM(10, return_sequences=True)))\n",
    "model.add(tf.keras.layers.LSTM(10))\n",
    "model.add(tf.keras.layers.Dense(8, activation=\"softmax\"))\n",
    "model.summary()"
   ]
  },
  {
   "cell_type": "code",
   "execution_count": 16,
   "id": "018b7b3a",
   "metadata": {},
   "outputs": [],
   "source": [
    "model.compile(\"adam\", \"binary_crossentropy\", metrics=[\"accuracy\"])"
   ]
  },
  {
   "cell_type": "code",
   "execution_count": 17,
   "id": "6d82d6a9",
   "metadata": {},
   "outputs": [
    {
     "name": "stdout",
     "output_type": "stream",
     "text": [
      "Epoch 1/15\n",
      "121/121 [==============================] - 5s 15ms/step - loss: 0.4622 - accuracy: 0.4555 - val_loss: 0.2734 - val_accuracy: 0.7497\n",
      "Epoch 2/15\n",
      "121/121 [==============================] - 1s 9ms/step - loss: 0.2318 - accuracy: 0.7605 - val_loss: 0.2160 - val_accuracy: 0.7497\n",
      "Epoch 3/15\n",
      "121/121 [==============================] - 1s 8ms/step - loss: 0.1992 - accuracy: 0.7605 - val_loss: 0.1878 - val_accuracy: 0.7497\n",
      "Epoch 4/15\n",
      "121/121 [==============================] - 1s 8ms/step - loss: 0.1629 - accuracy: 0.7700 - val_loss: 0.1544 - val_accuracy: 0.7673\n",
      "Epoch 5/15\n",
      "121/121 [==============================] - 1s 8ms/step - loss: 0.1372 - accuracy: 0.8145 - val_loss: 0.1346 - val_accuracy: 0.8252\n",
      "Epoch 6/15\n",
      "121/121 [==============================] - 1s 9ms/step - loss: 0.1252 - accuracy: 0.8228 - val_loss: 0.1258 - val_accuracy: 0.8232\n",
      "Epoch 7/15\n",
      "121/121 [==============================] - 1s 9ms/step - loss: 0.1169 - accuracy: 0.8259 - val_loss: 0.1207 - val_accuracy: 0.8273\n",
      "Epoch 8/15\n",
      "121/121 [==============================] - 1s 9ms/step - loss: 0.1101 - accuracy: 0.8282 - val_loss: 0.1156 - val_accuracy: 0.8273\n",
      "Epoch 9/15\n",
      "121/121 [==============================] - 1s 8ms/step - loss: 0.1051 - accuracy: 0.8469 - val_loss: 0.1077 - val_accuracy: 0.8604\n",
      "Epoch 10/15\n",
      "121/121 [==============================] - 1s 8ms/step - loss: 0.0988 - accuracy: 0.8748 - val_loss: 0.1013 - val_accuracy: 0.8852\n",
      "Epoch 11/15\n",
      "121/121 [==============================] - 1s 8ms/step - loss: 0.0921 - accuracy: 0.8901 - val_loss: 0.0974 - val_accuracy: 0.8873\n",
      "Epoch 12/15\n",
      "121/121 [==============================] - 1s 8ms/step - loss: 0.0863 - accuracy: 0.8939 - val_loss: 0.0887 - val_accuracy: 0.8966\n",
      "Epoch 13/15\n",
      "121/121 [==============================] - 1s 8ms/step - loss: 0.0808 - accuracy: 0.8996 - val_loss: 0.0851 - val_accuracy: 0.9007\n",
      "Epoch 14/15\n",
      "121/121 [==============================] - 1s 8ms/step - loss: 0.0756 - accuracy: 0.9064 - val_loss: 0.0816 - val_accuracy: 0.9131\n",
      "Epoch 15/15\n",
      "121/121 [==============================] - 1s 9ms/step - loss: 0.0701 - accuracy: 0.9214 - val_loss: 0.0792 - val_accuracy: 0.9276\n"
     ]
    }
   ],
   "source": [
    "history = model.fit(\n",
    "    x_train, y_train, batch_size=32, epochs=15, validation_data=(x_val, y_val)\n",
    ")"
   ]
  },
  {
   "cell_type": "code",
   "execution_count": 18,
   "id": "d2d0ee17",
   "metadata": {},
   "outputs": [
    {
     "data": {
      "image/png": "[encoded data removed]",
      "text/plain": [
       "<Figure size 432x288 with 1 Axes>"
      ]
     },
     "metadata": {
      "needs_background": "light"
     },
     "output_type": "display_data"
    }
   ],
   "source": [
    "# VALIDATION LOSS curves\n",
    "\n",
    "plt.clf()\n",
    "history_dict = history.history\n",
    "loss_values = history_dict['loss']\n",
    "val_loss_values = history_dict['val_loss']\n",
    "epochs = range(1, (len(history_dict['loss']) + 1))\n",
    "plt.plot(epochs, loss_values, 'bo', label='Training loss')\n",
    "plt.plot(epochs, val_loss_values, 'r', label='Validation loss')\n",
    "plt.title('Training and validation loss')\n",
    "plt.xlabel('Epochs')\n",
    "plt.ylabel('Loss')\n",
    "plt.legend()\n",
    "plt.show()"
   ]
  },
  {
   "cell_type": "code",
   "execution_count": 19,
   "id": "5009f463",
   "metadata": {},
   "outputs": [
    {
     "data": {
      "image/png": "[encoded data removed]",
      "text/plain": [
       "<Figure size 432x288 with 1 Axes>"
      ]
     },
     "metadata": {
      "needs_background": "light"
     },
     "output_type": "display_data"
    }
   ],
   "source": [
    "\n",
    "# VALIDATION ACCURACY curves\n",
    "\n",
    "plt.clf()\n",
    "acc_values = history_dict['accuracy']\n",
    "val_acc_values = history_dict['val_accuracy']\n",
    "epochs = range(1, (len(history_dict['accuracy']) + 1))\n",
    "plt.plot(epochs, acc_values, 'bo', label='Training acc')\n",
    "plt.plot(epochs, val_acc_values, 'r', label='Validation acc')\n",
    "plt.title('Training and validation accuracy')\n",
    "plt.xlabel('Epochs')\n",
    "plt.ylabel('Accuracy')\n",
    "plt.legend()\n",
    "plt.show()"
   ]
  },
  {
   "cell_type": "code",
   "execution_count": 20,
   "id": "8d8cb65e",
   "metadata": {},
   "outputs": [
    {
     "name": "stdout",
     "output_type": "stream",
     "text": [
      "(799, 10) (799, 8)\n"
     ]
    }
   ],
   "source": [
    "print(x_test.shape,y_test.shape)"
   ]
  },
  {
   "cell_type": "code",
   "execution_count": 21,
   "id": "27aa38bb",
   "metadata": {},
   "outputs": [
    {
     "name": "stdout",
     "output_type": "stream",
     "text": [
      "Sample Request:  i would like a flight traveling one way from phoenix to san diego on april first\n",
      "Sample Request Token: [ 69  72   2  92   1  11 101   5 186  43]\n",
      "Sample Target: atis_flight\n",
      "Sample Target Token: [0 0 0 0 1 0 0 0]\n"
     ]
    }
   ],
   "source": [
    "print('Sample Request: {}'.format(test_data[2]))\n",
    "print('Sample Request Token: {}'.format(x_test[2]))\n",
    "print('Sample Target: {}'.format(test_labels[2]))\n",
    "print('Sample Target Token: {}'.format(y_test[2]))"
   ]
  },
  {
   "cell_type": "code",
   "execution_count": 22,
   "id": "38dbc132",
   "metadata": {},
   "outputs": [],
   "source": [
    "y_pred = model.predict(x_test)"
   ]
  },
  {
   "cell_type": "code",
   "execution_count": 23,
   "id": "5308d6bc",
   "metadata": {},
   "outputs": [
    {
     "data": {
      "text/plain": [
       "(799, 8)"
      ]
     },
     "execution_count": 23,
     "metadata": {},
     "output_type": "execute_result"
    }
   ],
   "source": [
    "y_pred.shape"
   ]
  },
  {
   "cell_type": "code",
   "execution_count": 24,
   "id": "5c5d1793",
   "metadata": {},
   "outputs": [
    {
     "data": {
      "text/plain": [
       "array([0.00200467, 0.0029074 , 0.02371102, 0.00296811, 0.96173483,\n",
       "       0.00222053, 0.00126797, 0.0031855 ], dtype=float32)"
      ]
     },
     "execution_count": 24,
     "metadata": {},
     "output_type": "execute_result"
    }
   ],
   "source": [
    "y_pred[2,:]"
   ]
  },
  {
   "cell_type": "code",
   "execution_count": 25,
   "id": "6e4a78a7",
   "metadata": {},
   "outputs": [],
   "source": [
    "# evaluate custom query\n",
    "\n",
    "input_txt = \"please return the price range for flights from chicago to new york on january third\"\n",
    "tokenized_input = tokenizer.texts_to_sequences(input_txt)\n",
    "padded = tf.keras.preprocessing.sequence.pad_sequences(tokenized_input, \n",
    "                                             maxlen=MAX_LENGTH,padding='post')"
   ]
  },
  {
   "cell_type": "code",
   "execution_count": 26,
   "id": "73cc4d30",
   "metadata": {},
   "outputs": [
    {
     "data": {
      "text/plain": [
       "0.9999999925494194"
      ]
     },
     "execution_count": 26,
     "metadata": {},
     "output_type": "execute_result"
    }
   ],
   "source": [
    "raw_output = model.predict(padded)[0]\n",
    "sum(raw_output)"
   ]
  },
  {
   "cell_type": "code",
   "execution_count": 27,
   "id": "e1f4ec97",
   "metadata": {},
   "outputs": [
    {
     "data": {
      "text/plain": [
       "{'atis_abbreviation': 0.21912031,\n",
       " 'atis_aircraft': 0.22837397,\n",
       " 'atis_airfare': 0.19532706,\n",
       " 'atis_airline': 0.02103704,\n",
       " 'atis_flight': 0.19127429,\n",
       " 'atis_flight_time': 0.016828075,\n",
       " 'atis_ground_service': 0.11397696,\n",
       " 'atis_quantity': 0.014062287}"
      ]
     },
     "execution_count": 27,
     "metadata": {},
     "output_type": "execute_result"
    }
   ],
   "source": [
    "output = {ATIS_Labels[i]: raw_output[i] for i in range(len(ATIS_Labels))}\n",
    "output"
   ]
  },
  {
   "cell_type": "code",
   "execution_count": 28,
   "id": "40872b67",
   "metadata": {},
   "outputs": [
    {
     "name": "stdout",
     "output_type": "stream",
     "text": [
      "['atis_aircraft'] 0.22837397\n"
     ]
    }
   ],
   "source": [
    "max_value = max(output.values())\n",
    "max_key = [k for k,v in output.items() if v == max_value]\n",
    "print(max_key, max_value)"
   ]
  },
  {
   "cell_type": "code",
   "execution_count": 29,
   "id": "7eb169ee",
   "metadata": {},
   "outputs": [],
   "source": [
    "## Save Model using .h5 format\n",
    "model.save('lstm-model-ATIS_INTENT.h5')\n",
    "## Load model with the following command:\n",
    "# tf.keras.models.load_model('lstm-model-ATIS_INTENT.h5')"
   ]
  },
  {
   "cell_type": "code",
   "execution_count": 30,
   "id": "1015e7ab",
   "metadata": {},
   "outputs": [],
   "source": [
    "import io, json\n",
    "## Save tokenizer using .json format\n",
    "tokenizer_json = tokenizer.to_json()\n",
    "with io.open('lstm-tokenizer-ATIS_INTENT.json', 'w', encoding='utf-8') as f:\n",
    "    f.write(json.dumps(tokenizer_json, ensure_ascii=False))\n",
    "## load tokenizer with the following commands:\n",
    "#with open(tokenizer_path) as f:\n",
    "#    data = json.load(f)\n",
    "#    tokenizer = tf.keras.preprocessing.text.tokenizer_from_json(data)"
   ]
  }
 ],
 "metadata": {
  "kernelspec": {
   "display_name": "Python 3",
   "language": "python",
   "name": "python3"
  },
  "language_info": {
   "codemirror_mode": {
    "name": "ipython",
    "version": 3
   },
   "file_extension": ".py",
   "mimetype": "text/x-python",
   "name": "python",
   "nbconvert_exporter": "python",
   "pygments_lexer": "ipython3",
   "version": "3.6.13"
  }
 },
 "nbformat": 4,
 "nbformat_minor": 5
}
