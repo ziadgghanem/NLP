{
 "cells": [
  {
   "cell_type": "code",
   "execution_count": 1,
   "id": "edc9ccee",
   "metadata": {},
   "outputs": [],
   "source": [
    "from pathlib import Path\n",
    "import re"
   ]
  },
  {
   "cell_type": "code",
   "execution_count": 2,
   "id": "fe359292",
   "metadata": {},
   "outputs": [
    {
     "data": {
      "text/plain": [
       "['.ipynb_checkpoints',\n",
       " 'atis-clean.dev.pkl.gz',\n",
       " 'atis-clean.dev.w-intent.iob',\n",
       " 'atis-clean.test.pkl.gz',\n",
       " 'atis-clean.test.w-intent.iob',\n",
       " 'atis-clean.train.pkl.gz',\n",
       " 'atis-clean.train.w-intent.iob',\n",
       " 'ATIS_from_MS_CNTK',\n",
       " 'ATIS_MSCNKT_Dataset.ipynb',\n",
       " 'BERT_EntityExtraction_FineTune_ATIS.ipynb',\n",
       " 'MS CNTK ATIS Dataset Resplit.ipynb',\n",
       " 'MS CNTK ATIS Dataset to Pandas DataFrame.ipynb']"
      ]
     },
     "execution_count": 2,
     "metadata": {},
     "output_type": "execute_result"
    }
   ],
   "source": [
    "import os \n",
    "os.listdir()"
   ]
  },
  {
   "cell_type": "raw",
   "id": "6b136f82",
   "metadata": {},
   "source": [
    "f = 'atis-clean.train.w-intent.iob'\n",
    "#print(os.path.exists(f))\n",
    "f_path = Path(f)\n",
    "raw_text = f_path.read_text().strip()\n",
    "#print(raw_text[0:366])\n",
    "raw_docs = re.split('\\n', raw_text)[1:]\n",
    "for i in range(len(raw_docs)):\n",
    "    raw_docs[i] = raw_docs[i] + '\\n'\n",
    "raw_docs[0]"
   ]
  },
  {
   "cell_type": "code",
   "execution_count": 3,
   "id": "c0b75656",
   "metadata": {},
   "outputs": [],
   "source": [
    "####################################################################\n",
    "def read_data(file_path):\n",
    "    file_path = Path(file_path)\n",
    "    \n",
    "    raw_text = file_path.read_text().strip()\n",
    "    raw_docs = re.split('\\n', raw_text)\n",
    "    \n",
    "    #for i in range(len(raw_docs)):\n",
    "        #raw_docs[i] = raw_docs[i] + '\\n'\n",
    "        \n",
    "    token_docs = []\n",
    "    tag_docs = []\n",
    "    label_docs = []\n",
    "    for doc in raw_docs:\n",
    "        tokens = []\n",
    "        tags = []\n",
    "        labels = []\n",
    "        for line in doc.split('\\n'):\n",
    "            token, tag = line.split('\\t')\n",
    "            string = str(tag)\n",
    "            label = string[string.find('atis'):]\n",
    "            tag = [string[:string.find('atis')-1]][0]\n",
    "            tokens.append(token)\n",
    "            tags.append(tag)\n",
    "            labels.append(label)\n",
    "        label_docs.append(labels)\n",
    "        token_docs.append(tokens)\n",
    "        tag_docs.append(tags)\n",
    "    return token_docs, tag_docs, label_docs"
   ]
  },
  {
   "cell_type": "code",
   "execution_count": 4,
   "id": "bf0ea92a",
   "metadata": {},
   "outputs": [],
   "source": [
    "train_data_path = 'atis-clean.train.w-intent.iob'\n",
    "val_data_path = 'atis-clean.dev.w-intent.iob'\n",
    "test_data_path = 'atis-clean.test.w-intent.iob'\n",
    "\n",
    "train_texts, train_tags, train_intents = read_data(train_data_path)\n",
    "val_texts, val_tags, val_intents = read_data(val_data_path)\n",
    "test_texts, test_tags, test_intents = read_data(test_data_path)"
   ]
  },
  {
   "cell_type": "code",
   "execution_count": 5,
   "id": "76d7ad08",
   "metadata": {},
   "outputs": [],
   "source": [
    "import pandas as pd\n",
    "dict_train = {'intent': train_intents, 'tag': train_tags, 'text': train_texts}\n",
    "df_train = pd.DataFrame(dict_train)\n",
    "\n",
    "dict_val = {'intent': val_intents, 'tag': val_tags, 'text': val_texts}\n",
    "df_val = pd.DataFrame(dict_val)\n",
    "\n",
    "dict_test = {'intent': test_intents, 'tag': test_tags, 'text': test_texts}\n",
    "df_test = pd.DataFrame(dict_test)"
   ]
  },
  {
   "cell_type": "code",
   "execution_count": 6,
   "id": "19c4b20e",
   "metadata": {},
   "outputs": [
    {
     "data": {
      "text/html": [
       "<div>\n",
       "<style scoped>\n",
       "    .dataframe tbody tr th:only-of-type {\n",
       "        vertical-align: middle;\n",
       "    }\n",
       "\n",
       "    .dataframe tbody tr th {\n",
       "        vertical-align: top;\n",
       "    }\n",
       "\n",
       "    .dataframe thead th {\n",
       "        text-align: right;\n",
       "    }\n",
       "</style>\n",
       "<table border=\"1\" class=\"dataframe\">\n",
       "  <thead>\n",
       "    <tr style=\"text-align: right;\">\n",
       "      <th></th>\n",
       "      <th>intent</th>\n",
       "      <th>tag</th>\n",
       "      <th>text</th>\n",
       "    </tr>\n",
       "  </thead>\n",
       "  <tbody>\n",
       "    <tr>\n",
       "      <th>0</th>\n",
       "      <td>[atis_flight]</td>\n",
       "      <td>[O O O O B-class_type O O B-fromloc.city_name ...</td>\n",
       "      <td>[BOS what are the coach flights between dallas...</td>\n",
       "    </tr>\n",
       "    <tr>\n",
       "      <th>1</th>\n",
       "      <td>[atis_flight]</td>\n",
       "      <td>[O O O O O O B-fromloc.city_name O B-toloc.cit...</td>\n",
       "      <td>[BOS i want a flight from nashville to seattle...</td>\n",
       "    </tr>\n",
       "    <tr>\n",
       "      <th>2</th>\n",
       "      <td>[atis_flight]</td>\n",
       "      <td>[O O O O O O B-fromloc.city_name I-fromloc.cit...</td>\n",
       "      <td>[BOS i need a flight leaving kansas city to ch...</td>\n",
       "    </tr>\n",
       "    <tr>\n",
       "      <th>3</th>\n",
       "      <td>[atis_abbreviation]</td>\n",
       "      <td>[O O B-meal O B-meal_code I-meal_code]</td>\n",
       "      <td>[BOS explain meal codes sd d EOS]</td>\n",
       "    </tr>\n",
       "    <tr>\n",
       "      <th>4</th>\n",
       "      <td>[atis_flight]</td>\n",
       "      <td>[O O O O O O B-fromloc.city_name O B-toloc.cit...</td>\n",
       "      <td>[BOS show me all flights from atlanta to san f...</td>\n",
       "    </tr>\n",
       "  </tbody>\n",
       "</table>\n",
       "</div>"
      ],
      "text/plain": [
       "                intent                                                tag  \\\n",
       "0        [atis_flight]  [O O O O B-class_type O O B-fromloc.city_name ...   \n",
       "1        [atis_flight]  [O O O O O O B-fromloc.city_name O B-toloc.cit...   \n",
       "2        [atis_flight]  [O O O O O O B-fromloc.city_name I-fromloc.cit...   \n",
       "3  [atis_abbreviation]             [O O B-meal O B-meal_code I-meal_code]   \n",
       "4        [atis_flight]  [O O O O O O B-fromloc.city_name O B-toloc.cit...   \n",
       "\n",
       "                                                text  \n",
       "0  [BOS what are the coach flights between dallas...  \n",
       "1  [BOS i want a flight from nashville to seattle...  \n",
       "2  [BOS i need a flight leaving kansas city to ch...  \n",
       "3                  [BOS explain meal codes sd d EOS]  \n",
       "4  [BOS show me all flights from atlanta to san f...  "
      ]
     },
     "execution_count": 6,
     "metadata": {},
     "output_type": "execute_result"
    }
   ],
   "source": [
    "df_test.head()"
   ]
  },
  {
   "cell_type": "code",
   "execution_count": 10,
   "id": "0d51017a",
   "metadata": {},
   "outputs": [
    {
     "data": {
      "text/plain": [
       "['BOS what are the coach flights between dallas and baltimore leaving august tenth and returning august twelve EOS']"
      ]
     },
     "execution_count": 10,
     "metadata": {},
     "output_type": "execute_result"
    }
   ],
   "source": [
    "df_test[\"text\"].tolist()[0]"
   ]
  },
  {
   "cell_type": "raw",
   "id": "790805a1",
   "metadata": {},
   "source": [
    "df_train['intent'] = df_train['intent'].str.join(',')\n",
    "df_train['tag'] = df_train['tag'].str.join(',')\n",
    "df_train['text'] = df_train['text'].str.join(',')\n",
    "\n",
    "df_val['intent'] = df_val['intent'].str.join(',')\n",
    "df_val['tag'] = df_val['tag'].str.join(',')\n",
    "df_val['text'] = df_val['text'].str.join(',')\n",
    "\n",
    "df_test['intent'] = df_test['intent'].str.join(',')\n",
    "df_test['tag'] = df_test['tag'].str.join(',')\n",
    "df_test['text'] = df_test['text'].str.join(',')"
   ]
  },
  {
   "cell_type": "raw",
   "id": "1e405191",
   "metadata": {},
   "source": [
    "df_test.head()"
   ]
  },
  {
   "cell_type": "code",
   "execution_count": 11,
   "id": "395773a0",
   "metadata": {},
   "outputs": [],
   "source": [
    "#save as .pkl to avoid formatting errors\n",
    "df_train.to_pickle('ATIS_df_train.pkl')\n",
    "df_test.to_pickle('ATIS_df_test.pkl')\n",
    "df_val.to_pickle('ATIS_df_val.pkl')"
   ]
  },
  {
   "cell_type": "raw",
   "id": "27c00bcc",
   "metadata": {},
   "source": [
    "import csv\n",
    "df_train.to_csv('ATIS_df_train.csv', index = False, quoting=csv.QUOTE_NONE)\n",
    "df_test.to_csv('ATIS_df_test.csv', index = False, quoting=csv.QUOTE_NONE)\n",
    "df_val.to_csv('ATIS_df_val.csv', index = False, quoting=csv.QUOTE_NONE)"
   ]
  },
  {
   "cell_type": "code",
   "execution_count": 12,
   "id": "598963af",
   "metadata": {},
   "outputs": [
    {
     "name": "stdout",
     "output_type": "stream",
     "text": [
      "['BOS show me the flights from los angeles to pittsburgh which arrive at pittsburgh on monday EOS']\n",
      "['O O O O O O B-fromloc.city_name I-fromloc.city_name O B-toloc.city_name O O O B-toloc.city_name O B-arrive_date.day_name']\n",
      "['atis_flight']\n"
     ]
    }
   ],
   "source": [
    "import numpy as np\n",
    "n = np.random.randint(len(test_texts))\n",
    "print(test_texts[n], test_tags[n], test_intents[n], sep='\\n')"
   ]
  },
  {
   "cell_type": "code",
   "execution_count": null,
   "id": "6aa92991",
   "metadata": {},
   "outputs": [],
   "source": [
    "type(test_texts[0])"
   ]
  },
  {
   "cell_type": "code",
   "execution_count": null,
   "id": "17cf55b0",
   "metadata": {},
   "outputs": [],
   "source": []
  }
 ],
 "metadata": {
  "kernelspec": {
   "display_name": "Python 3",
   "language": "python",
   "name": "python3"
  },
  "language_info": {
   "codemirror_mode": {
    "name": "ipython",
    "version": 3
   },
   "file_extension": ".py",
   "mimetype": "text/x-python",
   "name": "python",
   "nbconvert_exporter": "python",
   "pygments_lexer": "ipython3",
   "version": "3.6.13"
  }
 },
 "nbformat": 4,
 "nbformat_minor": 5
}
