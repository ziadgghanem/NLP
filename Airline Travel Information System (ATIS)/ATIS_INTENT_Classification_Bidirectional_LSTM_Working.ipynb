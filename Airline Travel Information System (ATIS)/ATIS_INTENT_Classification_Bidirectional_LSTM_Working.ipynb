{
 "cells": [
  {
   "cell_type": "code",
   "execution_count": 1,
   "id": "91a2404f",
   "metadata": {},
   "outputs": [
    {
     "name": "stdout",
     "output_type": "stream",
     "text": [
      "Tensorflow version 2.5.0\n",
      "Numpy version 1.19.5\n"
     ]
    }
   ],
   "source": [
    "from __future__ import absolute_import, division, print_function, unicode_literals\n",
    "\n",
    "import requests\n",
    "import sys\n",
    "\n",
    "import tensorflow as tf\n",
    "\n",
    "tf.random.set_seed(1234)\n",
    "AUTO = tf.data.experimental.AUTOTUNE\n",
    "\n",
    "#import tensorflow_datasets as tfds\n",
    "\n",
    "import os\n",
    "import re\n",
    "import numpy as np\n",
    "from time import time\n",
    "import matplotlib.pyplot as plt\n",
    "\n",
    "print(\"Tensorflow version {}\".format(tf.__version__))\n",
    "print(\"Numpy version {}\".format(np.__version__))"
   ]
  },
  {
   "cell_type": "code",
   "execution_count": 2,
   "id": "321e8943",
   "metadata": {},
   "outputs": [
    {
     "name": "stderr",
     "output_type": "stream",
     "text": [
      "Python 3.6.13 :: Anaconda, Inc.\n"
     ]
    }
   ],
   "source": [
    "#model requires python 3.6 \n",
    "!python --version"
   ]
  },
  {
   "cell_type": "code",
   "execution_count": 3,
   "id": "207cf19a",
   "metadata": {},
   "outputs": [],
   "source": [
    "def plot_graphs(history, metric):\n",
    "  plt.plot(history.history[metric])\n",
    "  plt.plot(history.history['val_'+metric], '')\n",
    "  plt.xlabel(\"Epochs\")\n",
    "  plt.ylabel(metric)\n",
    "  plt.legend([metric, 'val_'+metric])"
   ]
  },
  {
   "cell_type": "code",
   "execution_count": 4,
   "id": "7b178a9b",
   "metadata": {},
   "outputs": [
    {
     "data": {
      "text/html": [
       "<div>\n",
       "<style scoped>\n",
       "    .dataframe tbody tr th:only-of-type {\n",
       "        vertical-align: middle;\n",
       "    }\n",
       "\n",
       "    .dataframe tbody tr th {\n",
       "        vertical-align: top;\n",
       "    }\n",
       "\n",
       "    .dataframe thead th {\n",
       "        text-align: right;\n",
       "    }\n",
       "</style>\n",
       "<table border=\"1\" class=\"dataframe\">\n",
       "  <thead>\n",
       "    <tr style=\"text-align: right;\">\n",
       "      <th></th>\n",
       "      <th>intent</th>\n",
       "      <th>snippet</th>\n",
       "    </tr>\n",
       "  </thead>\n",
       "  <tbody>\n",
       "    <tr>\n",
       "      <th>0</th>\n",
       "      <td>atis_flight</td>\n",
       "      <td>what flights are available from pittsburgh to...</td>\n",
       "    </tr>\n",
       "    <tr>\n",
       "      <th>1</th>\n",
       "      <td>atis_flight_time</td>\n",
       "      <td>what is the arrival time in san francisco for...</td>\n",
       "    </tr>\n",
       "    <tr>\n",
       "      <th>2</th>\n",
       "      <td>atis_airfare</td>\n",
       "      <td>cheapest airfare from tacoma to orlando</td>\n",
       "    </tr>\n",
       "    <tr>\n",
       "      <th>3</th>\n",
       "      <td>atis_airfare</td>\n",
       "      <td>round trip fares from pittsburgh to philadelp...</td>\n",
       "    </tr>\n",
       "    <tr>\n",
       "      <th>4</th>\n",
       "      <td>atis_flight</td>\n",
       "      <td>i need a flight tomorrow from columbus to min...</td>\n",
       "    </tr>\n",
       "  </tbody>\n",
       "</table>\n",
       "</div>"
      ],
      "text/plain": [
       "             intent                                            snippet\n",
       "0       atis_flight   what flights are available from pittsburgh to...\n",
       "1  atis_flight_time   what is the arrival time in san francisco for...\n",
       "2      atis_airfare            cheapest airfare from tacoma to orlando\n",
       "3      atis_airfare   round trip fares from pittsburgh to philadelp...\n",
       "4       atis_flight   i need a flight tomorrow from columbus to min..."
      ]
     },
     "execution_count": 4,
     "metadata": {},
     "output_type": "execute_result"
    }
   ],
   "source": [
    "import pandas as pd\n",
    "\n",
    "df_train, df_test = pd.read_csv('atis_intents_train.csv'), pd.read_csv('atis_intents_test.csv')\n",
    "df_train.columns, df_test.columns = ['intent', 'snippet'], ['intent', 'snippet']\n",
    "\n",
    "df_train.head()"
   ]
  },
  {
   "cell_type": "code",
   "execution_count": 5,
   "id": "501d26d9",
   "metadata": {},
   "outputs": [
    {
     "data": {
      "text/plain": [
       "(atis_flight            3665\n",
       " atis_airfare            423\n",
       " atis_ground_service     255\n",
       " atis_airline            157\n",
       " atis_abbreviation       147\n",
       " atis_aircraft            81\n",
       " atis_flight_time         54\n",
       " atis_quantity            51\n",
       " Name: intent, dtype: int64,\n",
       " atis_flight            0.758328\n",
       " atis_airfare           0.087523\n",
       " atis_ground_service    0.052762\n",
       " atis_airline           0.032485\n",
       " atis_abbreviation      0.030416\n",
       " atis_aircraft          0.016760\n",
       " atis_flight_time       0.011173\n",
       " atis_quantity          0.010552\n",
       " Name: intent, dtype: float64)"
      ]
     },
     "execution_count": 5,
     "metadata": {},
     "output_type": "execute_result"
    }
   ],
   "source": [
    "df_train.intent.value_counts(), df_train.intent.value_counts(normalize=True)"
   ]
  },
  {
   "cell_type": "code",
   "execution_count": 6,
   "id": "ebf26ecf",
   "metadata": {},
   "outputs": [
    {
     "name": "stdout",
     "output_type": "stream",
     "text": [
      "Training Dataset Size: 4833\n",
      "Testing Dataset Size: 799\n",
      "Dataset Type: <class 'numpy.ndarray'>\n"
     ]
    }
   ],
   "source": [
    "train_data = df_train.snippet.values\n",
    "train_labels = df_train.intent.values\n",
    "test_data = df_test.snippet.values\n",
    "test_labels = df_test.intent.values          \n",
    "\n",
    "print('Training Dataset Size: {}'.format(len(train_data)))\n",
    "#print('Train Targets: {}'.format(len(train_labels)))\n",
    "print('Testing Dataset Size: {}'.format(len(test_data)))\n",
    "#print('Test Targets: {}'.format(len(test_labels)))\n",
    "print('Dataset Type: {}'.format(type(train_data)))"
   ]
  },
  {
   "cell_type": "code",
   "execution_count": 7,
   "id": "6f6b27ad",
   "metadata": {},
   "outputs": [],
   "source": [
    "# Maximum sentence length\n",
    "MAX_LENGTH = 25\n",
    "\n",
    "tokenizer = tf.keras.preprocessing.text.Tokenizer(filters='')\n",
    "tokenizer.fit_on_texts(list(df_train.snippet) + list(df_test.snippet))\n",
    "VOCAB_SIZE = tokenizer.document_count\n",
    "tokenized_requests_train = tokenizer.texts_to_sequences(df_train.snippet)\n",
    "tokenized_requests_train = tf.keras.preprocessing.sequence.pad_sequences(tokenized_requests_train, \n",
    "                                                                    maxlen=MAX_LENGTH,padding='post')\n",
    "tokenized_requests_test = tokenizer.texts_to_sequences(df_test.snippet)\n",
    "tokenized_requests_test = tf.keras.preprocessing.sequence.pad_sequences(tokenized_requests_test, \n",
    "                                                                    maxlen=MAX_LENGTH,padding='post')"
   ]
  },
  {
   "cell_type": "code",
   "execution_count": 8,
   "id": "df92cc43",
   "metadata": {},
   "outputs": [
    {
     "name": "stdout",
     "output_type": "stream",
     "text": [
      "Sample Request:  cheapest airfare from tacoma to orlando\n",
      "Sample Token: [ 53 260   2 164   1  95   0   0   0   0   0   0   0   0   0   0   0   0\n",
      "   0   0   0   0   0   0   0]\n",
      "Sample Target: atis_airfare\n"
     ]
    }
   ],
   "source": [
    "print('Sample Request: {}'.format(train_data[2]))\n",
    "print('Sample Token: {}'.format(tokenized_requests_train[2]))\n",
    "print('Sample Target: {}'.format(train_labels[2]))"
   ]
  },
  {
   "cell_type": "code",
   "execution_count": 9,
   "id": "36ecdeb6",
   "metadata": {},
   "outputs": [
    {
     "data": {
      "text/html": [
       "<div>\n",
       "<style scoped>\n",
       "    .dataframe tbody tr th:only-of-type {\n",
       "        vertical-align: middle;\n",
       "    }\n",
       "\n",
       "    .dataframe tbody tr th {\n",
       "        vertical-align: top;\n",
       "    }\n",
       "\n",
       "    .dataframe thead th {\n",
       "        text-align: right;\n",
       "    }\n",
       "</style>\n",
       "<table border=\"1\" class=\"dataframe\">\n",
       "  <thead>\n",
       "    <tr style=\"text-align: right;\">\n",
       "      <th></th>\n",
       "      <th>atis_abbreviation</th>\n",
       "      <th>atis_aircraft</th>\n",
       "      <th>atis_airfare</th>\n",
       "      <th>atis_airline</th>\n",
       "      <th>atis_flight</th>\n",
       "      <th>atis_flight_time</th>\n",
       "      <th>atis_ground_service</th>\n",
       "      <th>atis_quantity</th>\n",
       "    </tr>\n",
       "  </thead>\n",
       "  <tbody>\n",
       "    <tr>\n",
       "      <th>0</th>\n",
       "      <td>0</td>\n",
       "      <td>0</td>\n",
       "      <td>0</td>\n",
       "      <td>0</td>\n",
       "      <td>1</td>\n",
       "      <td>0</td>\n",
       "      <td>0</td>\n",
       "      <td>0</td>\n",
       "    </tr>\n",
       "    <tr>\n",
       "      <th>1</th>\n",
       "      <td>0</td>\n",
       "      <td>0</td>\n",
       "      <td>0</td>\n",
       "      <td>0</td>\n",
       "      <td>0</td>\n",
       "      <td>1</td>\n",
       "      <td>0</td>\n",
       "      <td>0</td>\n",
       "    </tr>\n",
       "    <tr>\n",
       "      <th>2</th>\n",
       "      <td>0</td>\n",
       "      <td>0</td>\n",
       "      <td>1</td>\n",
       "      <td>0</td>\n",
       "      <td>0</td>\n",
       "      <td>0</td>\n",
       "      <td>0</td>\n",
       "      <td>0</td>\n",
       "    </tr>\n",
       "    <tr>\n",
       "      <th>3</th>\n",
       "      <td>0</td>\n",
       "      <td>0</td>\n",
       "      <td>1</td>\n",
       "      <td>0</td>\n",
       "      <td>0</td>\n",
       "      <td>0</td>\n",
       "      <td>0</td>\n",
       "      <td>0</td>\n",
       "    </tr>\n",
       "    <tr>\n",
       "      <th>4</th>\n",
       "      <td>0</td>\n",
       "      <td>0</td>\n",
       "      <td>0</td>\n",
       "      <td>0</td>\n",
       "      <td>1</td>\n",
       "      <td>0</td>\n",
       "      <td>0</td>\n",
       "      <td>0</td>\n",
       "    </tr>\n",
       "  </tbody>\n",
       "</table>\n",
       "</div>"
      ],
      "text/plain": [
       "   atis_abbreviation  atis_aircraft  atis_airfare  atis_airline  atis_flight  \\\n",
       "0                  0              0             0             0            1   \n",
       "1                  0              0             0             0            0   \n",
       "2                  0              0             1             0            0   \n",
       "3                  0              0             1             0            0   \n",
       "4                  0              0             0             0            1   \n",
       "\n",
       "   atis_flight_time  atis_ground_service  atis_quantity  \n",
       "0                 0                    0              0  \n",
       "1                 1                    0              0  \n",
       "2                 0                    0              0  \n",
       "3                 0                    0              0  \n",
       "4                 0                    0              0  "
      ]
     },
     "execution_count": 9,
     "metadata": {},
     "output_type": "execute_result"
    }
   ],
   "source": [
    "target_train_df = pd.get_dummies(train_labels)\n",
    "target_test_df = pd.get_dummies(test_labels)\n",
    "target_train_df.head()"
   ]
  },
  {
   "cell_type": "code",
   "execution_count": 10,
   "id": "c9972691",
   "metadata": {},
   "outputs": [],
   "source": [
    "ATIS_Labels = list(target_train_df.columns)\n",
    "\n",
    "with open(\"ATIS_Labels_List.txt\", \"w\") as output:\n",
    "    output.write(str(ATIS_Labels))"
   ]
  },
  {
   "cell_type": "code",
   "execution_count": 11,
   "id": "d52b28a8",
   "metadata": {},
   "outputs": [
    {
     "name": "stdout",
     "output_type": "stream",
     "text": [
      "atis_abbreviation\n",
      "atis_aircraft\n",
      "atis_airfare\n",
      "atis_airline\n",
      "atis_flight\n",
      "atis_flight_time\n",
      "atis_ground_service\n",
      "atis_quantity\n"
     ]
    }
   ],
   "source": [
    "print(*ATIS_Labels, sep = '\\n')"
   ]
  },
  {
   "cell_type": "code",
   "execution_count": 12,
   "id": "a160c3cf",
   "metadata": {},
   "outputs": [
    {
     "name": "stdout",
     "output_type": "stream",
     "text": [
      "Dataset Type: <class 'numpy.ndarray'>\n"
     ]
    }
   ],
   "source": [
    "tokenized_targets_train = target_train_df.values\n",
    "tokenized_targets_test = target_test_df.values\n",
    "print('Dataset Type: {}'.format(type(tokenized_targets_train)))"
   ]
  },
  {
   "cell_type": "code",
   "execution_count": 13,
   "id": "9f01050b",
   "metadata": {},
   "outputs": [],
   "source": [
    "# Train/Val Split\n",
    "prop = 0.8\n",
    "N = len(tokenized_requests_train)\n",
    "x_train = tokenized_requests_train[:int(N*prop)]\n",
    "y_train = tokenized_targets_train[:int(N*prop)]\n",
    "\n",
    "x_val = tokenized_requests_train[int(N*prop):]\n",
    "y_val = tokenized_targets_train[int(N*prop):]\n",
    "\n",
    "x_test = tokenized_requests_test\n",
    "y_test = tokenized_targets_test"
   ]
  },
  {
   "cell_type": "code",
   "execution_count": 14,
   "id": "6a671987",
   "metadata": {},
   "outputs": [
    {
     "name": "stdout",
     "output_type": "stream",
     "text": [
      "Model: \"sequential\"\n",
      "_________________________________________________________________\n",
      "Layer (type)                 Output Shape              Param #   \n",
      "=================================================================\n",
      "embedding (Embedding)        (None, None, 25)          140800    \n",
      "_________________________________________________________________\n",
      "bidirectional (Bidirectional (None, None, 20)          2880      \n",
      "_________________________________________________________________\n",
      "bidirectional_1 (Bidirection (None, 20)                2480      \n",
      "_________________________________________________________________\n",
      "dense (Dense)                (None, 8)                 168       \n",
      "=================================================================\n",
      "Total params: 146,328\n",
      "Trainable params: 146,328\n",
      "Non-trainable params: 0\n",
      "_________________________________________________________________\n"
     ]
    }
   ],
   "source": [
    "model = tf.keras.Sequential()\n",
    "model.add(tf.keras.layers.Embedding(VOCAB_SIZE,25))\n",
    "model.add(tf.keras.layers.Bidirectional((tf.keras.layers.LSTM(10, return_sequences=True))))\n",
    "model.add(tf.keras.layers.Bidirectional((tf.keras.layers.LSTM(10))))\n",
    "model.add(tf.keras.layers.Dense(8, activation=\"softmax\"))\n",
    "model.summary()"
   ]
  },
  {
   "cell_type": "code",
   "execution_count": 15,
   "id": "018b7b3a",
   "metadata": {},
   "outputs": [],
   "source": [
    "model.compile(\"adam\", \"binary_crossentropy\", metrics=[\"accuracy\"])"
   ]
  },
  {
   "cell_type": "code",
   "execution_count": 16,
   "id": "b76c4f46",
   "metadata": {},
   "outputs": [],
   "source": [
    "filepath=\"lstm-weights-ATIS_INTENT.hdf5\"\n",
    "checkpoint = tf.keras.callbacks.ModelCheckpoint(filepath, monitor='loss', verbose=1, save_best_only=True, mode='min')\n",
    "callbacks_list = [checkpoint]"
   ]
  },
  {
   "cell_type": "code",
   "execution_count": 17,
   "id": "6d82d6a9",
   "metadata": {},
   "outputs": [
    {
     "name": "stdout",
     "output_type": "stream",
     "text": [
      "Epoch 1/15\n",
      "387/387 [==============================] - 15s 22ms/step - loss: 0.2439 - accuracy: 0.7558 - val_loss: 0.1385 - val_accuracy: 0.7497\n",
      "\n",
      "Epoch 00001: loss improved from inf to 0.24393, saving model to lstm-weights-ATIS_INTENT.hdf5\n",
      "Epoch 2/15\n",
      "387/387 [==============================] - 7s 18ms/step - loss: 0.1171 - accuracy: 0.8272 - val_loss: 0.1001 - val_accuracy: 0.8749\n",
      "\n",
      "Epoch 00002: loss improved from 0.24393 to 0.11707, saving model to lstm-weights-ATIS_INTENT.hdf5\n",
      "Epoch 3/15\n",
      "387/387 [==============================] - 7s 18ms/step - loss: 0.0929 - accuracy: 0.8691 - val_loss: 0.0791 - val_accuracy: 0.8914\n",
      "\n",
      "Epoch 00003: loss improved from 0.11707 to 0.09292, saving model to lstm-weights-ATIS_INTENT.hdf5\n",
      "Epoch 4/15\n",
      "387/387 [==============================] - 7s 19ms/step - loss: 0.0750 - accuracy: 0.8854 - val_loss: 0.0847 - val_accuracy: 0.8883\n",
      "\n",
      "Epoch 00004: loss improved from 0.09292 to 0.07495, saving model to lstm-weights-ATIS_INTENT.hdf5\n",
      "Epoch 5/15\n",
      "387/387 [==============================] - 7s 18ms/step - loss: 0.0638 - accuracy: 0.8906 - val_loss: 0.0623 - val_accuracy: 0.8966\n",
      "\n",
      "Epoch 00005: loss improved from 0.07495 to 0.06384, saving model to lstm-weights-ATIS_INTENT.hdf5\n",
      "Epoch 6/15\n",
      "387/387 [==============================] - 7s 19ms/step - loss: 0.0600 - accuracy: 0.8927 - val_loss: 0.0607 - val_accuracy: 0.9028ss: 0.0599 - accura\n",
      "\n",
      "Epoch 00006: loss improved from 0.06384 to 0.06001, saving model to lstm-weights-ATIS_INTENT.hdf5\n",
      "Epoch 7/15\n",
      "387/387 [==============================] - 7s 19ms/step - loss: 0.0562 - accuracy: 0.8976 - val_loss: 0.0620 - val_accuracy: 0.9007\n",
      "\n",
      "Epoch 00007: loss improved from 0.06001 to 0.05622, saving model to lstm-weights-ATIS_INTENT.hdf5\n",
      "Epoch 8/15\n",
      "387/387 [==============================] - 9s 22ms/step - loss: 0.0535 - accuracy: 0.9033 - val_loss: 0.0546 - val_accuracy: 0.9090\n",
      "\n",
      "Epoch 00008: loss improved from 0.05622 to 0.05351, saving model to lstm-weights-ATIS_INTENT.hdf5\n",
      "Epoch 9/15\n",
      "387/387 [==============================] - 8s 21ms/step - loss: 0.0476 - accuracy: 0.9234 - val_loss: 0.0510 - val_accuracy: 0.9493\n",
      "\n",
      "Epoch 00009: loss improved from 0.05351 to 0.04755, saving model to lstm-weights-ATIS_INTENT.hdf5\n",
      "Epoch 10/15\n",
      "387/387 [==============================] - 8s 21ms/step - loss: 0.0387 - accuracy: 0.9454 - val_loss: 0.0460 - val_accuracy: 0.9607\n",
      "\n",
      "Epoch 00010: loss improved from 0.04755 to 0.03874, saving model to lstm-weights-ATIS_INTENT.hdf5\n",
      "Epoch 11/15\n",
      "387/387 [==============================] - 7s 19ms/step - loss: 0.0342 - accuracy: 0.9542 - val_loss: 0.0437 - val_accuracy: 0.9380\n",
      "\n",
      "Epoch 00011: loss improved from 0.03874 to 0.03424, saving model to lstm-weights-ATIS_INTENT.hdf5\n",
      "Epoch 12/15\n",
      "387/387 [==============================] - 8s 20ms/step - loss: 0.0303 - accuracy: 0.9576 - val_loss: 0.0429 - val_accuracy: 0.9679\n",
      "\n",
      "Epoch 00012: loss improved from 0.03424 to 0.03030, saving model to lstm-weights-ATIS_INTENT.hdf5\n",
      "Epoch 13/15\n",
      "387/387 [==============================] - 7s 18ms/step - loss: 0.0288 - accuracy: 0.9687 - val_loss: 0.0360 - val_accuracy: 0.9638\n",
      "\n",
      "Epoch 00013: loss improved from 0.03030 to 0.02879, saving model to lstm-weights-ATIS_INTENT.hdf5\n",
      "Epoch 14/15\n",
      "387/387 [==============================] - 7s 18ms/step - loss: 0.0271 - accuracy: 0.9630 - val_loss: 0.0373 - val_accuracy: 0.9690\n",
      "\n",
      "Epoch 00014: loss improved from 0.02879 to 0.02707, saving model to lstm-weights-ATIS_INTENT.hdf5\n",
      "Epoch 15/15\n",
      "387/387 [==============================] - 7s 17ms/step - loss: 0.0233 - accuracy: 0.9715 - val_loss: 0.0328 - val_accuracy: 0.9700\n",
      "\n",
      "Epoch 00015: loss improved from 0.02707 to 0.02333, saving model to lstm-weights-ATIS_INTENT.hdf5\n"
     ]
    }
   ],
   "source": [
    "history = model.fit(\n",
    "    x_train, y_train, batch_size=10, epochs=15, validation_data=(x_val, y_val),\n",
    "callbacks=callbacks_list)"
   ]
  },
  {
   "cell_type": "code",
   "execution_count": 18,
   "id": "d2d0ee17",
   "metadata": {},
   "outputs": [
    {
     "data": {
      "image/png": "[encoded data removed]",
      "text/plain": [
       "<Figure size 432x288 with 1 Axes>"
      ]
     },
     "metadata": {
      "needs_background": "light"
     },
     "output_type": "display_data"
    }
   ],
   "source": [
    "# VALIDATION LOSS curves\n",
    "\n",
    "plt.clf()\n",
    "history_dict = history.history\n",
    "loss_values = history_dict['loss']\n",
    "val_loss_values = history_dict['val_loss']\n",
    "epochs = range(1, (len(history_dict['loss']) + 1))\n",
    "plt.plot(epochs, loss_values, 'bo', label='Training loss')\n",
    "plt.plot(epochs, val_loss_values, 'r', label='Validation loss')\n",
    "plt.title('Training and validation loss')\n",
    "plt.xlabel('Epochs')\n",
    "plt.ylabel('Loss')\n",
    "plt.legend()\n",
    "plt.show()"
   ]
  },
  {
   "cell_type": "code",
   "execution_count": 19,
   "id": "5009f463",
   "metadata": {},
   "outputs": [
    {
     "data": {
      "image/png": "[encoded data removed]",
      "text/plain": [
       "<Figure size 432x288 with 1 Axes>"
      ]
     },
     "metadata": {
      "needs_background": "light"
     },
     "output_type": "display_data"
    }
   ],
   "source": [
    "\n",
    "# VALIDATION ACCURACY curves\n",
    "\n",
    "plt.clf()\n",
    "acc_values = history_dict['accuracy']\n",
    "val_acc_values = history_dict['val_accuracy']\n",
    "epochs = range(1, (len(history_dict['accuracy']) + 1))\n",
    "plt.plot(epochs, acc_values, 'bo', label='Training acc')\n",
    "plt.plot(epochs, val_acc_values, 'r', label='Validation acc')\n",
    "plt.title('Training and validation accuracy')\n",
    "plt.xlabel('Epochs')\n",
    "plt.ylabel('Accuracy')\n",
    "plt.legend()\n",
    "plt.show()"
   ]
  },
  {
   "cell_type": "code",
   "execution_count": 20,
   "id": "8d8cb65e",
   "metadata": {},
   "outputs": [
    {
     "name": "stdout",
     "output_type": "stream",
     "text": [
      "(799, 25) (799, 8)\n"
     ]
    }
   ],
   "source": [
    "print(x_test.shape,y_test.shape)"
   ]
  },
  {
   "cell_type": "code",
   "execution_count": 21,
   "id": "27aa38bb",
   "metadata": {},
   "outputs": [
    {
     "name": "stdout",
     "output_type": "stream",
     "text": [
      "Sample Request:  i would like a flight traveling one way from phoenix to san diego on april first\n",
      "Sample Request Token: [ 17  37  26  12   8 356  69  72   2  92   1  11 101   5 186  43   0   0\n",
      "   0   0   0   0   0   0   0]\n",
      "Sample Target: atis_flight\n",
      "Sample Target Token: [0 0 0 0 1 0 0 0]\n"
     ]
    }
   ],
   "source": [
    "print('Sample Request: {}'.format(test_data[2]))\n",
    "print('Sample Request Token: {}'.format(x_test[2]))\n",
    "print('Sample Target: {}'.format(test_labels[2]))\n",
    "print('Sample Target Token: {}'.format(y_test[2]))"
   ]
  },
  {
   "cell_type": "code",
   "execution_count": 22,
   "id": "38dbc132",
   "metadata": {},
   "outputs": [],
   "source": [
    "y_pred = model.predict(x_test)"
   ]
  },
  {
   "cell_type": "code",
   "execution_count": 23,
   "id": "5308d6bc",
   "metadata": {},
   "outputs": [
    {
     "data": {
      "text/plain": [
       "(799, 8)"
      ]
     },
     "execution_count": 23,
     "metadata": {},
     "output_type": "execute_result"
    }
   ],
   "source": [
    "y_pred.shape"
   ]
  },
  {
   "cell_type": "code",
   "execution_count": 24,
   "id": "5c5d1793",
   "metadata": {},
   "outputs": [
    {
     "data": {
      "text/plain": [
       "array([1.8292039e-07, 1.0036352e-07, 9.7157965e-07, 5.2543862e-07,\n",
       "       9.9999678e-01, 6.9457860e-07, 3.2706382e-07, 3.7915612e-07],\n",
       "      dtype=float32)"
      ]
     },
     "execution_count": 24,
     "metadata": {},
     "output_type": "execute_result"
    }
   ],
   "source": [
    "y_pred[2,:]"
   ]
  },
  {
   "cell_type": "code",
   "execution_count": 25,
   "id": "760b6c31",
   "metadata": {},
   "outputs": [],
   "source": [
    "# evaluate custom query\n",
    "\n",
    "input_txt = \"please return the price range for flights from chicago to new york on january third\"\n",
    "tokenized_input = tokenizer.texts_to_sequences(input_txt)\n",
    "padded = tf.keras.preprocessing.sequence.pad_sequences(tokenized_input, \n",
    "                                             maxlen=MAX_LENGTH,padding='post')"
   ]
  },
  {
   "cell_type": "code",
   "execution_count": 26,
   "id": "4790596c",
   "metadata": {},
   "outputs": [],
   "source": [
    "raw_output = model.predict(padded)[0]"
   ]
  },
  {
   "cell_type": "code",
   "execution_count": 27,
   "id": "7e080163",
   "metadata": {},
   "outputs": [
    {
     "data": {
      "text/plain": [
       "1.0000000383734005"
      ]
     },
     "execution_count": 27,
     "metadata": {},
     "output_type": "execute_result"
    }
   ],
   "source": [
    "sum(raw_output)"
   ]
  },
  {
   "cell_type": "code",
   "execution_count": 28,
   "id": "80833d0b",
   "metadata": {},
   "outputs": [],
   "source": [
    "output = {ATIS_Labels[i]: raw_output[i] for i in range(len(ATIS_Labels))}"
   ]
  },
  {
   "cell_type": "code",
   "execution_count": 29,
   "id": "a5c616b7",
   "metadata": {},
   "outputs": [
    {
     "data": {
      "text/plain": [
       "{'atis_abbreviation': 0.21156256,\n",
       " 'atis_aircraft': 0.0012149109,\n",
       " 'atis_airfare': 0.00021348505,\n",
       " 'atis_airline': 0.70539224,\n",
       " 'atis_flight': 0.0028601398,\n",
       " 'atis_flight_time': 0.012649338,\n",
       " 'atis_ground_service': 0.020933667,\n",
       " 'atis_quantity': 0.045173697}"
      ]
     },
     "execution_count": 29,
     "metadata": {},
     "output_type": "execute_result"
    }
   ],
   "source": [
    "output"
   ]
  },
  {
   "cell_type": "code",
   "execution_count": 34,
   "id": "0f3c72b3",
   "metadata": {},
   "outputs": [
    {
     "name": "stdout",
     "output_type": "stream",
     "text": [
      "['atis_airline'] 0.70539224\n"
     ]
    }
   ],
   "source": [
    "max_value = max(output.values())\n",
    "max_key = [k for k,v in output.items() if v == max_value]\n",
    "print(max_key, max_value)"
   ]
  },
  {
   "cell_type": "code",
   "execution_count": 30,
   "id": "6e4a78a7",
   "metadata": {},
   "outputs": [],
   "source": [
    "## Save Model using .h5 format\n",
    "model.save('bidirectional-lstm-model-ATIS_INTENT.h5')\n",
    "## Load model with the following command:\n",
    "# tf.keras.models.load_model('lstm-model-ATIS_INTENT.h5')"
   ]
  },
  {
   "cell_type": "code",
   "execution_count": 31,
   "id": "8dcc550a",
   "metadata": {},
   "outputs": [],
   "source": [
    "import io, json"
   ]
  },
  {
   "cell_type": "code",
   "execution_count": 32,
   "id": "cb11aa11",
   "metadata": {},
   "outputs": [],
   "source": [
    "## Save tokenizer using .json format\n",
    "tokenizer_json = tokenizer.to_json()\n",
    "with io.open('bidirectional-lstm-tokenizer-ATIS_INTENT.json', 'w', encoding='utf-8') as f:\n",
    "    f.write(json.dumps(tokenizer_json, ensure_ascii=False))\n",
    "## load tokenizer with the following commands:\n",
    "#with open(tokenizer_path) as f:\n",
    "#    data = json.load(f)\n",
    "#    tokenizer = tf.keras.preprocessing.text.tokenizer_from_json(data)"
   ]
  }
 ],
 "metadata": {
  "kernelspec": {
   "display_name": "Python 3",
   "language": "python",
   "name": "python3"
  },
  "language_info": {
   "codemirror_mode": {
    "name": "ipython",
    "version": 3
   },
   "file_extension": ".py",
   "mimetype": "text/x-python",
   "name": "python",
   "nbconvert_exporter": "python",
   "pygments_lexer": "ipython3",
   "version": "3.6.13"
  }
 },
 "nbformat": 4,
 "nbformat_minor": 5
}
